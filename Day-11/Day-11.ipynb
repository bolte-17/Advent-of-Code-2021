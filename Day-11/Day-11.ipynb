{
 "cells": [
  {
   "cell_type": "code",
   "execution_count": null,
   "metadata": {
    "dotnet_interactive": {
     "language": "fsharp"
    }
   },
   "outputs": [
    {
     "name": "stdout",
     "output_type": "stream",
     "text": [
      "Part 1: 1546 flashes after 100 steps\n",
      "Part 2: Flashes synchronize after 471 steps\n"
     ]
    }
   ],
   "source": [
    "let input = File.ReadAllLines \"input.txt\" |> array2D |> Array2D.map (fun c -> int c - int '0')\n",
    "\n",
    "let neighbors (x,y) = Seq.allPairs [-1; 0; 1] [-1; 0; 1] |> Seq.except [0,0] |> Seq.map (fun (dx,dy) -> x + dx, y + dy)\n",
    "let rec charge grid x y v = \n",
    "  Array2D.set grid x y (v + 1)\n",
    "  if v = 9 then \n",
    "    for (i,j) in neighbors(x,y) do\n",
    "      try charge grid i j grid[i,j] with _ -> ()\n",
    "  else ()\n",
    "\n",
    "let step = Array2D.copy >> fun grid ->\n",
    "  Array2D.iteri (charge grid) grid\n",
    "  grid |> Array2D.map (function n when n >= 10 -> 0 | n -> n)\n",
    "\n",
    "let flashCounts = Seq.unfold <| fun grid -> \n",
    "  let next = step grid\n",
    "  let flashCount = next |> Seq.cast |> Seq.filter ((=) 0) |> Seq.length\n",
    "  Some (flashCount, next)\n",
    "\n",
    "input\n",
    "|> flashCounts\n",
    "|> Seq.take 100\n",
    "|> Seq.sum\n",
    "|> printfn \"Part 1: %i flashes after 100 steps\"\n",
    "\n",
    "input\n",
    "|> flashCounts\n",
    "|> Seq.findIndex ((=) 100)\n",
    "|> (+) 1\n",
    "|> printfn \"Part 2: Flashes synchronize after %i steps\""
   ]
  }
 ],
 "metadata": {
  "kernelspec": {
   "display_name": ".NET (F#)",
   "language": "F#",
   "name": ".net-fsharp"
  },
  "language_info": {
   "name": "F#"
  }
 },
 "nbformat": 4,
 "nbformat_minor": 2
}
