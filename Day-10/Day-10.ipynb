{
 "cells": [
  {
   "cell_type": "code",
   "execution_count": null,
   "metadata": {
    "dotnet_interactive": {
     "language": "fsharp"
    }
   },
   "outputs": [],
   "source": [
    "let input = File.ReadAllLines \"input.txt\" |> Seq.map Seq.toList\n",
    "\n",
    "type ParseResult = \n",
    "  | Valid \n",
    "  | Corrupted of char\n",
    "  | Incomplete of char list\n",
    "\n",
    "let tokenPairs = Map [\n",
    "  '{', '}';\n",
    "  '(', ')';\n",
    "  '<', '>';\n",
    "  '[', ']';\n",
    "]\n",
    "\n",
    "let parseLine line = \n",
    "  let rec parse = function\n",
    "    | [], [] -> Valid\n",
    "    | [], stack -> Incomplete stack\n",
    "    | c :: rest, d :: stack when c = d -> parse (rest, stack)\n",
    "    | c :: rest, stack -> \n",
    "      match Map.tryFind c tokenPairs with \n",
    "      | Some d -> parse (rest, d :: stack)\n",
    "      | None -> Corrupted c\n",
    "  parse (line |> Seq.toList, [])"
   ]
  },
  {
   "cell_type": "code",
   "execution_count": null,
   "metadata": {
    "dotnet_interactive": {
     "language": "fsharp"
    }
   },
   "outputs": [
    {
     "data": {
      "text/html": [
       "<div class=\"dni-plaintext\">364389</div>"
      ]
     },
     "metadata": {},
     "output_type": "display_data"
    }
   ],
   "source": [
    "let score = function\n",
    "  | ')' -> 3\n",
    "  | ']' -> 57\n",
    "  | '}' -> 1197\n",
    "  | '>' -> 25137\n",
    "\n",
    "input\n",
    "|> Seq.map parseLine\n",
    "|> Seq.choose (function Corrupted c -> Some c | _ -> None)\n",
    "|> Seq.countBy id\n",
    "|> Seq.sumBy (fun (c, count) -> score c * count)"
   ]
  },
  {
   "cell_type": "code",
   "execution_count": null,
   "metadata": {
    "dotnet_interactive": {
     "language": "fsharp"
    }
   },
   "outputs": [
    {
     "data": {
      "text/html": [
       "<div class=\"dni-plaintext\">69744813</div>"
      ]
     },
     "metadata": {},
     "output_type": "display_data"
    }
   ],
   "source": [
    "let rec score2 = function \n",
    "  | ')' -> 1\n",
    "  | ']' -> 2\n",
    "  | '}' -> 3\n",
    "  | '>' -> 4\n",
    "\n",
    "let median s = s |> Seq.sort |> Seq.item (Seq.length s / 2) \n",
    "\n",
    "input\n",
    "|> Seq.map parseLine\n",
    "|> Seq.choose (function Incomplete x -> Some x | _ -> None)\n",
    "|> Seq.map (Seq.fold (fun a c -> 5 * a + score2 c) 0)\n",
    "|> median"
   ]
  }
 ],
 "metadata": {
  "kernelspec": {
   "display_name": ".NET (F#)",
   "language": "F#",
   "name": ".net-fsharp"
  },
  "language_info": {
   "name": "F#"
  }
 },
 "nbformat": 4,
 "nbformat_minor": 2
}
