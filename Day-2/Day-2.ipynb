{
 "cells": [
  {
   "cell_type": "code",
   "execution_count": null,
   "metadata": {
    "dotnet_interactive": {
     "language": "fsharp"
    }
   },
   "outputs": [
    {
     "data": {
      "text/html": [
       "<div class=\"dni-plaintext\">1893605</div>"
      ]
     },
     "metadata": {},
     "output_type": "display_data"
    }
   ],
   "source": [
    "type Instruction =\n",
    "  | Forward of int\n",
    "  | Up of int\n",
    "  | Down of int\n",
    "\n",
    "let parseInstruction (s: string) =\n",
    "  match s.Split() with\n",
    "  | [|\"forward\"; n|] -> Forward (int n)\n",
    "  | [|\"down\"; n|] -> Down (int n)\n",
    "  | [|\"up\"; n|] -> Up (int n)\n",
    "  | _ -> invalidOp s\n",
    "\n",
    "let applyInstruction (position, depth) = function\n",
    "  | Forward n -> (position + n, depth)\n",
    "  | Up n -> (position, depth - n)\n",
    "  | Down n -> (position, depth + n)\n",
    "\n",
    "let instructions = \n",
    "  File.ReadAllLines \"input.txt\"\n",
    "  |> Seq.map parseInstruction\n",
    "\n",
    "instructions\n",
    "|> Seq.fold applyInstruction (0,0)\n",
    "|> (<||) (*)\n"
   ]
  },
  {
   "cell_type": "code",
   "execution_count": null,
   "metadata": {
    "dotnet_interactive": {
     "language": "fsharp"
    }
   },
   "outputs": [
    {
     "data": {
      "text/html": [
       "<div class=\"dni-plaintext\">2120734350</div>"
      ]
     },
     "metadata": {},
     "output_type": "display_data"
    }
   ],
   "source": [
    "let applyInstruction2 (position, depth, aim) = function\n",
    "  | Down x -> (position, depth, aim + x)\n",
    "  | Up x -> (position, depth, aim - x)\n",
    "  | Forward x -> (position + x, depth + (aim * x), aim)\n",
    "\n",
    "instructions\n",
    "|> Seq.fold applyInstruction2 (0,0,0)\n",
    "|> fun (p,d,_) -> p * d"
   ]
  }
 ],
 "metadata": {
  "kernelspec": {
   "display_name": ".NET (F#)",
   "language": "F#",
   "name": ".net-fsharp"
  },
  "language_info": {
   "name": "F#"
  }
 },
 "nbformat": 4,
 "nbformat_minor": 2
}
