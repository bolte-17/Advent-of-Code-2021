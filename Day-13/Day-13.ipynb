{
 "cells": [
  {
   "cell_type": "code",
   "execution_count": null,
   "metadata": {
    "dotnet_interactive": {
     "language": "fsharp"
    }
   },
   "outputs": [],
   "source": [
    "let lines = File.ReadAllLines \"input.txt\"\n",
    "\n",
    "let points = \n",
    "  lines \n",
    "  |> Seq.takeWhile (not << String.IsNullOrWhiteSpace)\n",
    "  |> Seq.map (fun s -> s.Split(',') |> (fun [|x;y|] -> int x, int y))\n",
    "  |> Set.ofSeq\n",
    "\n",
    "let folds = \n",
    "  lines \n",
    "  |> Seq.skipWhile (not << String.IsNullOrWhiteSpace) \n",
    "  |> Seq.tail\n",
    "  |> Seq.map (fun s -> s[11], int s[13..])"
   ]
  },
  {
   "cell_type": "code",
   "execution_count": null,
   "metadata": {
    "dotnet_interactive": {
     "language": "fsharp"
    }
   },
   "outputs": [
    {
     "data": {
      "text/html": [
       "<div class=\"dni-plaintext\">669</div>"
      ]
     },
     "metadata": {},
     "output_type": "display_data"
    }
   ],
   "source": [
    "let foldOver = function\n",
    "  | 'x', v -> function (x, y) when x < v -> (x, y) | (x, y) -> (2 * v - x, y)\n",
    "  | 'y', h -> function (x, y) when y < h -> (x, y) | (x, y) -> (x, 2 * h - y)\n",
    "  | _ -> failwith \"err\"\n",
    "\n",
    "points\n",
    "|> Set.map (foldOver (folds |> Seq.head))\n",
    "|> Set.count"
   ]
  },
  {
   "cell_type": "code",
   "execution_count": null,
   "metadata": {
    "dotnet_interactive": {
     "language": "fsharp"
    }
   },
   "outputs": [
    {
     "data": {
      "text/plain": [
       "██    ██  ████████  ████████  ████████    ████    ██    ██    ████        ████\n",
       "██    ██  ██        ██              ██  ██    ██  ██    ██  ██    ██        ██\n",
       "██    ██  ██████    ██████        ██    ██        ██    ██  ██              ██\n",
       "██    ██  ██        ██          ██      ██        ██    ██  ██              ██\n",
       "██    ██  ██        ██        ██        ██    ██  ██    ██  ██    ██  ██    ██\n",
       "  ████    ████████  ██        ████████    ████      ████      ████      ████  \n"
      ]
     },
     "metadata": {},
     "output_type": "display_data"
    }
   ],
   "source": [
    "let result = folds |> Seq.fold (fun pts ln -> Set.map (foldOver ln) pts) points\n",
    "\n",
    "seq {\n",
    "  for y in 0..result |> Seq.map snd |> Seq.max do\n",
    "    for x in 0..result |> Seq.map fst |> Seq.max do\n",
    "      if Set.contains (x,y) result then yield \"██\" else yield \"  \"\n",
    "    yield \"\\n\"\n",
    "} |> fun cs -> String.Join(\"\",cs)"
   ]
  }
 ],
 "metadata": {
  "kernelspec": {
   "display_name": ".NET (F#)",
   "language": "F#",
   "name": ".net-fsharp"
  },
  "language_info": {
   "name": "F#"
  }
 },
 "nbformat": 4,
 "nbformat_minor": 2
}
