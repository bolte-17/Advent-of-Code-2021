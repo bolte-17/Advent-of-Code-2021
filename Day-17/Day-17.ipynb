{
 "cells": [
  {
   "cell_type": "code",
   "execution_count": null,
   "metadata": {
    "dotnet_interactive": {
     "language": "fsharp"
    }
   },
   "outputs": [
    {
     "data": {
      "text/html": [
       "<div class=\"dni-plaintext\">7875</div>"
      ]
     },
     "metadata": {},
     "output_type": "display_data"
    }
   ],
   "source": [
    "let targetX = (217, 240)\n",
    "let targetY = (-126, -69)\n",
    "\n",
    "let triangular x = x * (x + 1) / 2\n",
    "\n",
    "let maxY = -(fst targetY + 1)\n",
    "triangular (fst targetY)"
   ]
  },
  {
   "cell_type": "code",
   "execution_count": null,
   "metadata": {
    "dotnet_interactive": {
     "language": "fsharp"
    }
   },
   "outputs": [
    {
     "data": {
      "text/html": [
       "<div class=\"dni-plaintext\">2321</div>"
      ]
     },
     "metadata": {},
     "output_type": "display_data"
    }
   ],
   "source": [
    "let minX = 21\n",
    "let maxX = snd targetX\n",
    "\n",
    "let minY = -126\n",
    "\n",
    "let inRange (x,y) z = x <= z && z <= y\n",
    "let onTarget (x,y) = inRange targetX x && inRange targetY y\n",
    "let overshot (x,y) = x > snd targetX || y < fst targetY\n",
    "let drag = function\n",
    "  | x when x > 0 -> x - 1\n",
    "  | _ -> 0\n",
    "\n",
    "let check (dx_0, dy_0) =\n",
    "  let rec trace (dx,dy) = \n",
    "    function\n",
    "    | pt when overshot pt -> false\n",
    "    | pt when onTarget pt -> true\n",
    "    | (x,y) -> trace (drag dx, dy-1) (x+dx, y+dy)\n",
    "  trace (dx_0,dy_0) (0,0) \n",
    "\n",
    "seq {\n",
    "  for x in minX..maxX do\n",
    "    for y in minY..maxY do\n",
    "      if check (x,y) then yield x,y\n",
    "} |> Seq.length"
   ]
  }
 ],
 "metadata": {
  "kernelspec": {
   "display_name": ".NET (F#)",
   "language": "F#",
   "name": ".net-fsharp"
  },
  "language_info": {
   "name": "F#"
  }
 },
 "nbformat": 4,
 "nbformat_minor": 2
}
