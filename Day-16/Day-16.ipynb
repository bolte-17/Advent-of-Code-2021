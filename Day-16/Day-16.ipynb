{
 "cells": [
  {
   "cell_type": "code",
   "execution_count": null,
   "metadata": {
    "dotnet_interactive": {
     "language": "fsharp"
    }
   },
   "outputs": [
    {
     "data": {
      "text/html": [
       "<div class=\"dni-plaintext\">965</div>"
      ]
     },
     "metadata": {},
     "output_type": "display_data"
    }
   ],
   "source": [
    "let readHex = \n",
    "  Seq.collect (function\n",
    "  | '0' -> [0;0;0;0]\n",
    "  | '1' -> [0;0;0;1]\n",
    "  | '2' -> [0;0;1;0]\n",
    "  | '3' -> [0;0;1;1]\n",
    "  | '4' -> [0;1;0;0]\n",
    "  | '5' -> [0;1;0;1]\n",
    "  | '6' -> [0;1;1;0]\n",
    "  | '7' -> [0;1;1;1]\n",
    "  | '8' -> [1;0;0;0]\n",
    "  | '9' -> [1;0;0;1]\n",
    "  | 'A' -> [1;0;1;0]\n",
    "  | 'B' -> [1;0;1;1]\n",
    "  | 'C' -> [1;1;0;0]\n",
    "  | 'D' -> [1;1;0;1]\n",
    "  | 'E' -> [1;1;1;0]\n",
    "  | 'F' -> [1;1;1;1]\n",
    "  )\n",
    "  >> Seq.toList\n",
    "\n",
    "let input = (File.ReadAllText \"input.txt\").Trim() |> readHex\n",
    "\n",
    "let binToInt = List.fold (fun v bit -> v * 2 + bit) 0\n",
    "let binToLong = List.fold (fun v bit -> v * 2L + int64 bit) 0L\n",
    "\n",
    "let (|ReadBits|_|) n lst = \n",
    "  if List.length lst < n then None else\n",
    "  let (bits, rest) = List.splitAt n lst\n",
    "  Some (binToInt bits, rest)\n",
    "\n",
    "let (|PacketHeader|_|) = function\n",
    "  | ReadBits 3 (version, ReadBits 3 (typeId, rest)) -> Some (version, typeId, rest)\n",
    "  | _ -> None\n",
    "\n",
    "let rec readLiteralContents = function\n",
    "  | ReadBits 1 (1, rst) -> \n",
    "    let (bits, rest) = List.splitAt 4 rst\n",
    "    let (otherBits, finalRest) = readLiteralContents rest\n",
    "    (bits @ otherBits, finalRest)\n",
    "  | ReadBits 1 (0, rst) -> List.splitAt 4 rst\n",
    "\n",
    "type Op = \n",
    "  | Sum\n",
    "  | Product\n",
    "  | Min\n",
    "  | Max\n",
    "  | GreaterThan\n",
    "  | LessThan\n",
    "  | Equal\n",
    "\n",
    "let (|Op|) = function\n",
    "  | 0 -> Sum\n",
    "  | 1 -> Product\n",
    "  | 2 -> Min\n",
    "  | 3 -> Max\n",
    "  | 5 -> GreaterThan\n",
    "  | 6 -> LessThan\n",
    "  | 7 -> Equal\n",
    "\n",
    "type Packet = \n",
    "  | Literal of int * int64\n",
    "  | Operator of int * Op * Packet list\n",
    "\n",
    "let (|LiteralPacket|_|) = function\n",
    "  | PacketHeader (version, 4, rst) -> \n",
    "    let (bits, rest) = readLiteralContents rst\n",
    "    Some (Literal (version, binToLong bits), rest)\n",
    "  | _ -> None\n",
    "\n",
    "let rec (|OperatorPacket|_|) = function\n",
    "  | PacketHeader (v, Op t, ReadBits 1 (0, ReadBits 15 (len, rst))) ->\n",
    "    let (inner, rest) = rst |> List.splitAt len\n",
    "    Some (Operator (v, t, parse inner), rest) \n",
    "  | PacketHeader (v, Op t, ReadBits 1 (1, ReadBits 11 (packetCount, rst))) ->\n",
    "    let (packets, rest) = \n",
    "      [1..packetCount]\n",
    "      |> List.fold (fun (pkts, lst) _ -> \n",
    "        match parse1 lst with\n",
    "        | Some (v, r) -> (v :: pkts, r)\n",
    "        | None -> failwith \"Ran out of bits\") ([], rst)\n",
    "    Some (Operator (v, t, packets |> List.rev), rest)\n",
    "  | _ -> None\n",
    "and parse1 = function\n",
    "  | [] -> None\n",
    "  | LiteralPacket (value, rest) -> Some (value, rest)\n",
    "  | OperatorPacket (value, rest) -> Some (value, rest)\n",
    "  | lst when List.forall ((=) 0) lst -> None\n",
    "  | e -> failwith (sprintf \"%A\" e)\n",
    "and parse lst =\n",
    "  match parse1 lst with\n",
    "  | Some (value, rest) -> value :: parse rest\n",
    "  | None -> []\n",
    "\n",
    "let rec countVersion = function\n",
    "  | Literal (ver, _) -> ver\n",
    "  | Operator (ver, _, pkts) -> ver + Seq.sumBy countVersion pkts\n",
    "\n",
    "parse input\n",
    "|> Seq.sumBy countVersion\n"
   ]
  },
  {
   "cell_type": "code",
   "execution_count": null,
   "metadata": {
    "dotnet_interactive": {
     "language": "fsharp"
    }
   },
   "outputs": [
    {
     "data": {
      "text/html": [
       "<div class=\"dni-plaintext\">116672213160</div>"
      ]
     },
     "metadata": {},
     "output_type": "display_data"
    }
   ],
   "source": [
    "let exec = function\n",
    "  | Sum -> Seq.sum\n",
    "  | Product -> Seq.reduce (*)\n",
    "  | Min -> Seq.min\n",
    "  | Max -> Seq.max\n",
    "  | GreaterThan -> fun [x; y] -> if x > y then 1L else 0L\n",
    "  | LessThan -> fun [x; y] -> if x < y then 1L else 0L\n",
    "  | Equal -> fun [x; y] -> if x = y then 1L else 0L\n",
    "  | _ -> failwith \"Invalid op\"\n",
    "\n",
    "let rec eval = function\n",
    "  | Literal (_, v) -> v\n",
    "  | Operator (_, op, pkts) ->\n",
    "    pkts \n",
    "    |> List.map eval\n",
    "    |> exec op\n",
    "\n",
    "let evalHex str =\n",
    "  str\n",
    "  |> readHex\n",
    "  |> parse\n",
    "  |> Seq.exactlyOne\n",
    "  |> eval\n",
    "\n",
    "parse input\n",
    "|> Seq.exactlyOne\n",
    "|> eval"
   ]
  }
 ],
 "metadata": {
  "kernelspec": {
   "display_name": ".NET (F#)",
   "language": "F#",
   "name": ".net-fsharp"
  },
  "language_info": {
   "name": "F#"
  }
 },
 "nbformat": 4,
 "nbformat_minor": 2
}
