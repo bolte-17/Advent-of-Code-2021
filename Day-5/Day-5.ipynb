{
 "cells": [
  {
   "cell_type": "code",
   "execution_count": null,
   "metadata": {
    "dotnet_interactive": {
     "language": "fsharp"
    }
   },
   "outputs": [],
   "source": [
    "// Parsing input\n",
    "type Point = int * int\n",
    "let (|Point|) (s: string) = \n",
    "  match s.Split(',') with\n",
    "  | [| x; y |] -> Point(int x, int y)\n",
    "  | _ -> invalidArg (nameof s) s\n",
    "\n",
    "type Segment = Point * Point\n",
    "let (|Segment|) (s: string) =\n",
    "  match s.Split(\" -> \") with \n",
    "  | [| Point a; Point b |] -> Segment(a, b)\n",
    "  | _ -> invalidArg (nameof s) s\n",
    "\n",
    "let segments =\n",
    "  File.ReadAllLines \"input.txt\" \n",
    "  |> Seq.map (|Segment|)"
   ]
  },
  {
   "cell_type": "code",
   "execution_count": null,
   "metadata": {
    "dotnet_interactive": {
     "language": "fsharp"
    }
   },
   "outputs": [
    {
     "data": {
      "text/html": [
       "<div class=\"dni-plaintext\">7674</div>"
      ]
     },
     "metadata": {},
     "output_type": "display_data"
    }
   ],
   "source": [
    "let direction (((x1, y1), (x2, y2)): Segment) = Math.Sign(x2 - x1), Math.Sign(y2 - y1)\n",
    "let (.+) (x1, y1) (x2, y2) = (x1 + x2, y1 + y2)\n",
    "\n",
    "let pointsOn (a, b) =\n",
    "  let dir = direction (a, b)\n",
    "  Seq.append [a] (Seq.unfold (function x when x = b -> None | x -> Some(x .+ dir, x .+ dir)) a)\n",
    "\n",
    "let countOverlaps = \n",
    "  Seq.collect pointsOn\n",
    "  >> Seq.countBy id\n",
    "  >> Seq.filter (snd >> (<) 1)\n",
    "  >> Seq.length\n",
    "\n",
    "let isDiagonal = direction >> function (0, _) | (_, 0) -> false | _ -> true\n",
    "\n",
    "segments \n",
    "|> Seq.filter (not << isDiagonal)\n",
    "|> countOverlaps"
   ]
  },
  {
   "cell_type": "code",
   "execution_count": null,
   "metadata": {
    "dotnet_interactive": {
     "language": "fsharp"
    }
   },
   "outputs": [
    {
     "data": {
      "text/html": [
       "<div class=\"dni-plaintext\">20898</div>"
      ]
     },
     "metadata": {},
     "output_type": "display_data"
    }
   ],
   "source": [
    "segments \n",
    "|> countOverlaps"
   ]
  }
 ],
 "metadata": {
  "kernelspec": {
   "display_name": ".NET (F#)",
   "language": "F#",
   "name": ".net-fsharp"
  },
  "language_info": {
   "name": "F#"
  }
 },
 "nbformat": 4,
 "nbformat_minor": 2
}
