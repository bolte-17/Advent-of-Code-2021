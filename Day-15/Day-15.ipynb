{
 "cells": [
  {
   "cell_type": "code",
   "execution_count": null,
   "metadata": {
    "dotnet_interactive": {
     "language": "fsharp"
    }
   },
   "outputs": [],
   "source": [
    "let map = \n",
    "  File.ReadAllLines \"input.txt\"\n",
    "  |> array2D\n",
    "  |> Array2D.map (fun c -> int c - int '0')\n",
    "\n",
    "let exampleMap = \n",
    "  @\"1163751742\n",
    "1381373672\n",
    "2136511328\n",
    "3694931569\n",
    "7463417111\n",
    "1319128137\n",
    "1359912421\n",
    "3125421639\n",
    "1293138521\n",
    "2311944581\".Split('\\n') |> array2D |> Array2D.map (fun c -> int c - int '0')\n"
   ]
  },
  {
   "cell_type": "code",
   "execution_count": null,
   "metadata": {
    "dotnet_interactive": {
     "language": "fsharp"
    }
   },
   "outputs": [],
   "source": [
    "let inBounds map (x,y) = x >= 0 && y >= 0 && x < Array2D.length1 map && y < Array2D.length2 map\n",
    "let neighbors map (x,y) = [x + 1, y; x-1, y; x, y+1; x, y-1] |> Seq.filter (inBounds map)\n",
    "\n",
    "let minRisk m start = \n",
    "  let h (x,y) = 198 - x - y\n",
    "  let prioritize x lst = \n",
    "    match List.tryFindIndex (fun y -> snd y > snd x) lst with\n",
    "    | Some idx -> List.insertAt idx x lst\n",
    "    | None -> lst @ [x]\n",
    "  \n",
    "  let rec search (next :: boundary) =\n",
    "    match next with \n",
    "    | ((x, y), cost) when x = Array2D.length1 m - 1 && y = Array2D.length2 m - 1 -> cost\n",
    "    | (point, currentCost) -> \n",
    "      neighbors m point\n",
    "      |> Seq.map (fun (x,y) -> ((x,y), currentCost + m[x,y]))\n",
    "      |> Seq.fold (fun b (pt, cost) -> \n",
    "        match List.tryFindIndex (fun (p, _) -> p = pt) b with\n",
    "        | Some idx when snd b[idx] > cost -> prioritize (pt, cost) (b |> List.removeAt idx)\n",
    "        | Some _ -> b\n",
    "        | None -> prioritize (pt, cost) b) boundary\n",
    "      |> List.sortBy (fun (p,c) -> h p + c)\n",
    "      |> search\n",
    "  search [start, 0]\n",
    "\n",
    "minRisk map (0,0)"
   ]
  },
  {
   "cell_type": "code",
   "execution_count": null,
   "metadata": {
    "dotnet_interactive": {
     "language": "fsharp"
    }
   },
   "outputs": [
    {
     "data": {
      "text/html": [
       "<div><div></div><div></div><div><strong>Installed Packages</strong><ul><li><span>astar-search, 1.0.2</span></li></ul></div></div>"
      ]
     },
     "metadata": {},
     "output_type": "display_data"
    },
    {
     "data": {
      "text/html": [
       "<table><thead><tr><th>Value</th></tr></thead><tbody><tr><td><div class=\"dni-plaintext\">2864</div></td></tr></tbody></table>"
      ]
     },
     "metadata": {},
     "output_type": "display_data"
    }
   ],
   "source": [
    "// A* Search pulled from NuGet\n",
    "#r \"nuget:astar-search\"\n",
    "\n",
    "let bigSearch m =\n",
    "  let len = Array2D.length1 m\n",
    "  let bigCost = function 0,0 -> 0 | x,y -> (m[x % len, y % len] + (x/len) + (y/len) - 1) % 9 + 1\n",
    "  let between min maxExclusive n = n >= min && n < maxExclusive\n",
    "  let bigNeighbors (x,y) = [x + 1, y; x-1, y; x, y+1; x, y-1] |> Seq.filter(fun (a,b) -> [a;b] |> Seq.forall (between 0 (5*len)))\n",
    "\n",
    "  AStar.search (0,0) (5 * len - 1, 5 * len - 1) {\n",
    "    fCost = fun _ (x,y) -> float (10 * len - 2 - x - y);\n",
    "    gCost = fun _ pt -> bigCost pt |> float;\n",
    "    neighbours = bigNeighbors;\n",
    "    maxIterations = None\n",
    "  } |> Option.map (Seq.sumBy bigCost)\n",
    "\n",
    "bigSearch map"
   ]
  }
 ],
 "metadata": {
  "kernelspec": {
   "display_name": ".NET (F#)",
   "language": "F#",
   "name": ".net-fsharp"
  },
  "language_info": {
   "name": "F#"
  }
 },
 "nbformat": 4,
 "nbformat_minor": 2
}
