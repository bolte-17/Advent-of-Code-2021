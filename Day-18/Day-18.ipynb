{
 "cells": [
  {
   "cell_type": "code",
   "execution_count": null,
   "metadata": {
    "dotnet_interactive": {
     "language": "fsharp"
    }
   },
   "outputs": [
    {
     "data": {
      "text/html": [
       "<div class=\"dni-plaintext\">4435</div>"
      ]
     },
     "metadata": {},
     "output_type": "display_data"
    }
   ],
   "source": [
    "type Snailfish =\n",
    "  | Pair of Snailfish * Snailfish\n",
    "  | Number of int\n",
    "\n",
    "let rec stringFish = function \n",
    "  | Pair (l,r) -> $\"[{stringFish l},{stringFish r}]\"\n",
    "  | Number n -> string n\n",
    "\n",
    "type ReductionResult =\n",
    "  | Changed of Snailfish\n",
    "  | Explode of int * int\n",
    "  | ExplodeLeft of int * Snailfish\n",
    "  | ExplodeRight of Snailfish * int\n",
    "  | Done\n",
    "\n",
    "let (.+) s1 s2 = Pair (s1, s2)\n",
    "\n",
    "let rec reduce snailfish = \n",
    "  let rec addRight n = function\n",
    "  | Number m -> Number(n + m)\n",
    "  | Pair (l, r) -> addRight n l .+ r\n",
    "\n",
    "  let rec addLeft n = function\n",
    "  | Number m -> Number(n + m)\n",
    "  | Pair (l, r) -> l .+ addLeft n r\n",
    "\n",
    "  let rec explode n = function\n",
    "  | Number _ -> Done\n",
    "  | Pair (Number l, Number r) when n = 4 -> Explode (l, r)\n",
    "  | Pair (l, r) -> \n",
    "    match explode (n+1) l with\n",
    "    | Changed f -> Changed(f .+ r)\n",
    "    | Explode (a, b) -> ExplodeLeft (a, Number 0 .+ addRight b r)\n",
    "    | ExplodeLeft (n, f) -> ExplodeLeft (n, f .+ r)\n",
    "    | ExplodeRight (f, n) -> Changed(f .+ addRight n r)\n",
    "    | Done -> \n",
    "      match explode (n+1) r with\n",
    "      | Changed f -> Changed (l .+ f)\n",
    "      | Explode (a, b) -> ExplodeRight (addLeft a l .+ Number 0, b)\n",
    "      | ExplodeLeft (n, f) -> Changed (addLeft n l .+ f)\n",
    "      | ExplodeRight (f, n) -> ExplodeRight(l .+ f, n)\n",
    "      | Done -> Done\n",
    "  \n",
    "  let rec split = function\n",
    "  | Number n when n >= 10 -> Changed (Number (n/2) .+ Number (n-n/2))\n",
    "  | Number _ -> Done\n",
    "  | Pair (l,r) -> \n",
    "    match split l with \n",
    "    | Changed f -> Changed (f .+ r)\n",
    "    | Done -> \n",
    "      match split r with\n",
    "      | Changed f -> Changed (l .+ f)\n",
    "      | Done -> Done\n",
    "  \n",
    "  let reduceOnce fsh =\n",
    "    match explode 0 fsh with\n",
    "    | Done -> split fsh\n",
    "    | x -> x\n",
    "\n",
    "  match reduceOnce snailfish with\n",
    "  | Explode (_, _) -> failwith \"premature explosion\"\n",
    "  | ExplodeLeft (_, f) | ExplodeRight (f, _) | Changed f -> reduce f\n",
    "  | Done -> snailfish\n",
    "\n",
    "let parse (snailStr: string) = \n",
    "  let rec parseOne (s: string): Snailfish * string = \n",
    "    match s[0] with\n",
    "    | '[' -> \n",
    "      let (left, mid) = parseOne s[1..]\n",
    "      let (right, rest) = parseOne mid[1..]\n",
    "      (Pair (left, right), rest[1..])\n",
    "    | c -> (Number (int c - int '0'), s[1..])\n",
    "  parseOne snailStr |> fst\n",
    "\n",
    "let add a b = reduce (a .+ b)\n",
    "\n",
    "let rec magnitude = function\n",
    "  | Pair (l, r) -> (3 * magnitude l) + (2 * magnitude r)\n",
    "  | Number n -> n\n",
    "\n",
    "let lines = File.ReadAllLines \"input.txt\" |> Seq.map parse\n",
    "\n",
    "lines\n",
    "|> Seq.reduce add\n",
    "|> magnitude"
   ]
  },
  {
   "cell_type": "code",
   "execution_count": null,
   "metadata": {
    "dotnet_interactive": {
     "language": "fsharp"
    }
   },
   "outputs": [
    {
     "data": {
      "text/html": [
       "<div class=\"dni-plaintext\">4802</div>"
      ]
     },
     "metadata": {},
     "output_type": "display_data"
    }
   ],
   "source": [
    "lines\n",
    "|> Seq.allPairs lines\n",
    "|> Seq.filter ((<||) (<>))\n",
    "|> Seq.map (((<||) add) >> magnitude)\n",
    "|> Seq.max"
   ]
  }
 ],
 "metadata": {
  "kernelspec": {
   "display_name": ".NET (F#)",
   "language": "F#",
   "name": ".net-fsharp"
  },
  "language_info": {
   "name": "F#"
  }
 },
 "nbformat": 4,
 "nbformat_minor": 2
}
