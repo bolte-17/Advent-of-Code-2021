{
 "cells": [
  {
   "cell_type": "code",
   "execution_count": null,
   "metadata": {
    "dotnet_interactive": {
     "language": "fsharp"
    }
   },
   "outputs": [
    {
     "name": "stdout",
     "output_type": "stream",
     "text": [
      "2435\n",
      "2587447599164\n"
     ]
    }
   ],
   "source": [
    "#load \"../Utils.fsx\"\n",
    "open Utils\n",
    "\n",
    "let input = File.ReadAllLines \"input.txt\"\n",
    "let template = input[0] |> Seq.toList\n",
    "let rules = input[2..] |> Seq.map(fun s -> (s[0],s[1]), s[6]) |> Map.ofSeq\n",
    "\n",
    "let rec expand (rules: Map<char*char, char>) = function\n",
    "  | a :: (b :: _ as rest) -> a :: rules[a,b] :: expand rules rest\n",
    "  | [c] -> [c]\n",
    "\n",
    "let afterStep n f s = generate f s |> Seq.item n\n",
    "\n",
    "let maxMin s = (Seq.max s, Seq.min s)\n",
    "\n",
    "let mergeCounts =\n",
    "  Map.fold (fun m k v -> m |> Map.add k (v + (Map.tryFind k m |> Option.defaultValue 0L)))\n",
    "\n",
    "let charCounts (rules: Map<char*char, char>) s i = \n",
    "  let rec count = memoize <| function\n",
    "    | (c,d,0) -> Map.empty\n",
    "    | (c,d,1) -> Map.ofList [rules[c,d], 1L]\n",
    "    | (c,d,n) as arg -> [Map [rules[c,d], 1L]; count (c, rules[c,d], n-1); count (rules[c,d], d, n-1)] |> Seq.reduce mergeCounts\n",
    "  \n",
    "  s |> Seq.pairwise |> Seq.map (fun (a,b) -> count (a,b,i))\n",
    "  |> Seq.append [s |> Seq.countBy id |> Map.ofSeq |> Map.map (fun _ v -> int64 v)]\n",
    "  |> Seq.reduce mergeCounts\n",
    "\n",
    "let minMaxDiff map = map |> Map.toSeq |> Seq.map snd |> maxMin ||> (-)\n",
    "\n",
    "charCounts rules template 10\n",
    "|> minMaxDiff\n",
    "|> printfn \"%i\"\n",
    "\n",
    "charCounts rules template 40\n",
    "|> minMaxDiff\n",
    "|> printfn \"%i\""
   ]
  }
 ],
 "metadata": {
  "kernelspec": {
   "display_name": ".NET (F#)",
   "language": "F#",
   "name": ".net-fsharp"
  },
  "language_info": {
   "name": "F#"
  }
 },
 "nbformat": 4,
 "nbformat_minor": 2
}
