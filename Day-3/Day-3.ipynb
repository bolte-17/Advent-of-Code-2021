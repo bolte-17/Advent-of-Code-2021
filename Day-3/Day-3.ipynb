{
 "cells": [
  {
   "cell_type": "code",
   "execution_count": null,
   "metadata": {
    "dotnet_interactive": {
     "language": "fsharp"
    }
   },
   "outputs": [
    {
     "data": {
      "text/html": [
       "<div class=\"dni-plaintext\">1082324</div>"
      ]
     },
     "metadata": {},
     "output_type": "display_data"
    }
   ],
   "source": [
    "let input = \n",
    "  File.ReadAllLines \"input.txt\" \n",
    "  |> Seq.map (fun s -> s.ToCharArray() |> Array.map (fun c -> int c - int '0'))\n",
    "\n",
    "let collapseList l =\n",
    "  l |> Array.map (fun (x,y) -> x + y)\n",
    "\n",
    "let mostCommonBits = \n",
    "  input\n",
    "  |> Seq.map (Array.map (fun x -> x * 2 - 1))\n",
    "  |> Seq.reduce (fun a b -> collapseList <| (Array.zip a b))\n",
    "  |> Array.map (function x when x > 0 -> 1 | _ -> 0)\n",
    "\n",
    "let flip x = (x + 1) % 2\n",
    "\n",
    "let binaryToInt: (int seq -> int) = Seq.fold (fun a x -> 2 * a + x) 0\n",
    "\n",
    "let gamma = mostCommonBits |> binaryToInt\n",
    "let epsilon = mostCommonBits |> Array.map flip |> binaryToInt\n",
    "\n",
    "gamma * epsilon"
   ]
  },
  {
   "cell_type": "code",
   "execution_count": null,
   "metadata": {
    "dotnet_interactive": {
     "language": "fsharp"
    }
   },
   "outputs": [
    {
     "data": {
      "text/html": [
       "<div class=\"dni-plaintext\">1353024</div>"
      ]
     },
     "metadata": {},
     "output_type": "display_data"
    }
   ],
   "source": [
    "type Trie =\n",
    "  | Node of zero: Trie * one: Trie\n",
    "  | ZeroOnly of Trie\n",
    "  | OneOnly of Trie\n",
    "  | Leaf\n",
    "\n",
    "type Bit = \n",
    "  | One\n",
    "  | Zero\n",
    "\n",
    "let toBit = function 1 -> One | 0 -> Zero | _ -> failwith \"err\"\n",
    "\n",
    "let rec add t = function\n",
    "  | [] -> t\n",
    "  | Zero :: rest -> \n",
    "    match t with \n",
    "    | (ZeroOnly z | (Leaf as z)) -> ZeroOnly (add z rest)\n",
    "    | OneOnly o -> Node(add Leaf rest, o)\n",
    "    | Node(z,o) -> Node(add z rest, o)   \n",
    "  | One :: rest -> \n",
    "    match t with \n",
    "    | (OneOnly o | (Leaf as o)) -> OneOnly(add o rest)\n",
    "    | ZeroOnly z -> Node(z, add Leaf rest)\n",
    "    | Node(z,o) -> Node(z, add o rest)\n",
    "\n",
    "let inputTrie = \n",
    "  input \n",
    "  |> Seq.map (Seq.map toBit >> Seq.toList)\n",
    "  |> Seq.fold add Leaf\n",
    "\n",
    "#load \"../Utils.fsx\"\n",
    "open Utils\n",
    "\n",
    "let rec count = memoize (function\n",
    "  | Leaf -> 1\n",
    "  | OneOnly t | ZeroOnly t -> count t\n",
    "  | Node(z,o) -> count z + count o\n",
    ")\n",
    "\n",
    "let rec findRating cond = \n",
    "  function\n",
    "  | Node(z, o) -> if cond (count z) (count o) then (0 :: findRating cond z) else (1 :: findRating cond o)\n",
    "  | OneOnly t -> 1 :: findRating cond t\n",
    "  | ZeroOnly t -> 0 :: findRating cond t\n",
    "  | Leaf -> []\n",
    "\n",
    "let findO2 = findRating (>) >> binaryToInt\n",
    "let findCO2 = findRating (<=) >> binaryToInt\n",
    "\n",
    "(findO2 inputTrie, findCO2 inputTrie) ||> (*)\n"
   ]
  }
 ],
 "metadata": {
  "kernelspec": {
   "display_name": ".NET (F#)",
   "language": "F#",
   "name": ".net-fsharp"
  },
  "language_info": {
   "name": "F#"
  }
 },
 "nbformat": 4,
 "nbformat_minor": 2
}
