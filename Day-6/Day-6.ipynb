{
 "cells": [
  {
   "cell_type": "code",
   "execution_count": null,
   "metadata": {
    "dotnet_interactive": {
     "language": "fsharp"
    }
   },
   "outputs": [
    {
     "name": "stdout",
     "output_type": "stream",
     "text": [
      "352151\n",
      "1601616884019\n"
     ]
    }
   ],
   "source": [
    "#load \"../Utils.fsx\"\n",
    "open Utils\n",
    "\n",
    "let input = File.ReadAllText \"input.txt\" |> (fun s -> s.Split(',')) |> Seq.map int\n",
    "\n",
    "let rec fish = memoize <| function n when n > 8 -> fish (n - 7) + fish (n - 9) | _ -> 1L\n",
    "let fishAfter days = Seq.sumBy (fun n -> fish(8 - n + days))\n",
    "\n",
    "input |> fishAfter 80 |> printfn \"%i\"\n",
    "input |> fishAfter 256 |> printfn \"%i\""
   ]
  }
 ],
 "metadata": {
  "kernelspec": {
   "display_name": ".NET (F#)",
   "language": "F#",
   "name": ".net-fsharp"
  },
  "language_info": {
   "name": "F#"
  }
 },
 "nbformat": 4,
 "nbformat_minor": 2
}
