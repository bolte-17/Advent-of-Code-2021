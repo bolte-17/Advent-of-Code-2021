{
 "cells": [
  {
   "cell_type": "code",
   "execution_count": null,
   "metadata": {
    "dotnet_interactive": {
     "language": "fsharp"
    }
   },
   "outputs": [
    {
     "name": "stdout",
     "output_type": "stream",
     "text": [
      "352151\n",
      "1601616884019\n"
     ]
    }
   ],
   "source": [
    "let input = File.ReadAllText \"input.txt\" |> (fun s -> s.Split(',')) |> Seq.map int\n",
    "\n",
    "let memoize f =\n",
    "  let cache = new System.Collections.Generic.Dictionary<_, _>()\n",
    "  fun x -> \n",
    "    match cache.TryGetValue(x) with \n",
    "    | true, v -> v\n",
    "    | false, _ -> \n",
    "        let v = f x\n",
    "        cache.Add(x, v)\n",
    "        v\n",
    "\n",
    "let rec fish = memoize <| function n when n > 8 -> fish (n - 7) + fish (n - 9) | _ -> 1L\n",
    "let fishAfter days = Seq.sumBy (fun n -> fish(8 - n + days))\n",
    "\n",
    "input |> fishAfter 80 |> printfn \"%i\"\n",
    "input |> fishAfter 256 |> printfn \"%i\""
   ]
  }
 ],
 "metadata": {
  "kernelspec": {
   "display_name": ".NET (F#)",
   "language": "F#",
   "name": ".net-fsharp"
  },
  "language_info": {
   "name": "F#"
  }
 },
 "nbformat": 4,
 "nbformat_minor": 2
}
