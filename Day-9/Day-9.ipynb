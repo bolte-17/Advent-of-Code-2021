{
 "cells": [
  {
   "cell_type": "code",
   "execution_count": null,
   "metadata": {
    "dotnet_interactive": {
     "language": "fsharp"
    }
   },
   "outputs": [
    {
     "data": {
      "text/html": [
       "<div class=\"dni-plaintext\">580</div>"
      ]
     },
     "metadata": {},
     "output_type": "display_data"
    }
   ],
   "source": [
    "let input = File.ReadAllLines \"input.txt\"\n",
    "\n",
    "let grid = array2D input |> Array2D.map (fun c -> int c - int '0')\n",
    "\n",
    "let neighbors i j = \n",
    "  [(0,1); (0,-1); (1,0); (-1,0)]\n",
    "  |> Seq.collect (fun (x,y) -> try grid[x+i,y+j] |> Seq.singleton with _ -> Seq.empty)\n",
    "\n",
    "grid \n",
    "|> Array2D.mapi (fun x y value -> if value < Seq.min (neighbors x y) then 1 + value else 0)\n",
    "|> Seq.cast<int> |> Seq.sum"
   ]
  },
  {
   "cell_type": "code",
   "execution_count": null,
   "metadata": {
    "dotnet_interactive": {
     "language": "fsharp"
    }
   },
   "outputs": [
    {
     "data": {
      "text/html": [
       "<div class=\"dni-plaintext\">856716</div>"
      ]
     },
     "metadata": {},
     "output_type": "display_data"
    }
   ],
   "source": [
    "let lowPoints = \n",
    "  grid \n",
    "  |> Array2D.mapi (fun x y value -> if value < Seq.min (neighbors x y) then [(x,y)] else [])\n",
    "  |> Seq.cast<(int * int) list>\n",
    "  |> Seq.concat\n",
    "\n",
    "let higherPoints (i,j) = \n",
    "  [(i,j+1); (i,j-1); (i+1,j); (i-1,j)]\n",
    "  |> Seq.collect (fun (x,y) -> \n",
    "    try \n",
    "      let h = grid[x,y]\n",
    "      if h > grid[i,j] && h < 9 then [(x, y)] else []\n",
    "    with _ -> []\n",
    "  )\n",
    "\n",
    "let rec basin point =\n",
    "  point |> higherPoints |> Seq.map basin |> Set.unionMany |> Set.add point\n",
    "\n",
    "lowPoints \n",
    "|> Seq.map (basin >> Set.count)\n",
    "|> Seq.sortDescending\n",
    "|> Seq.take 3\n",
    "|> Seq.reduce (*)"
   ]
  }
 ],
 "metadata": {
  "kernelspec": {
   "display_name": ".NET (F#)",
   "language": "F#",
   "name": ".net-fsharp"
  },
  "language_info": {
   "name": "F#"
  }
 },
 "nbformat": 4,
 "nbformat_minor": 2
}
