{
 "cells": [
  {
   "cell_type": "code",
   "execution_count": null,
   "metadata": {
    "dotnet_interactive": {
     "language": "fsharp"
    }
   },
   "outputs": [],
   "source": [
    "let parseGraph (lines: string seq) = \n",
    "  lines\n",
    "  |> Seq.map (fun s -> s.Split('-'))\n",
    "  |> Seq.collect (fun [|x;y|] -> [(x,y); (y,x)])\n",
    "  |> Seq.groupBy fst\n",
    "  |> Map\n",
    "  |> Map.map (fun k vs -> vs |> Seq.map snd |> Seq.toList |> List.sort)\n",
    "\n",
    "let example = \n",
    "  @\"start-A\n",
    "start-b\n",
    "A-c\n",
    "A-b\n",
    "b-d\n",
    "A-end\n",
    "b-end\".Split('\\n') |> parseGraph\n",
    "\n",
    "let example2 = \n",
    "  @\"dc-end\n",
    "HN-start\n",
    "start-kj\n",
    "dc-start\n",
    "dc-HN\n",
    "LN-dc\n",
    "HN-end\n",
    "kj-sa\n",
    "kj-HN\n",
    "kj-dc\".Split('\\n') |> parseGraph\n",
    "\n",
    "let example3 = \n",
    "  @\"fs-end\n",
    "he-DX\n",
    "fs-he\n",
    "start-DX\n",
    "pj-DX\n",
    "end-zg\n",
    "zg-sl\n",
    "zg-pj\n",
    "pj-he\n",
    "RW-he\n",
    "fs-DX\n",
    "pj-RW\n",
    "zg-RW\n",
    "start-pj\n",
    "he-WI\n",
    "zg-he\n",
    "pj-fs\n",
    "start-RW\".Split('\\n') |> parseGraph\n",
    "\n",
    "let input = File.ReadAllLines \"input.txt\" |> parseGraph"
   ]
  },
  {
   "cell_type": "code",
   "execution_count": null,
   "metadata": {
    "dotnet_interactive": {
     "language": "fsharp"
    }
   },
   "outputs": [
    {
     "data": {
      "text/html": [
       "<div class=\"dni-plaintext\">4885</div>"
      ]
     },
     "metadata": {},
     "output_type": "display_data"
    }
   ],
   "source": [
    "let (|Small|Big|Start|End|) = function\n",
    "  | \"start\" -> Start\n",
    "  | \"end\" -> End\n",
    "  | s -> if Char.IsUpper s[0] then Big s else Small s\n",
    "\n",
    "let rec paths graph = function\n",
    "  | End :: _ as path -> [path |> List.rev]\n",
    "  | Start :: _ :: _ -> []\n",
    "  | Small cave :: rest when List.contains cave rest -> []\n",
    "  | cave :: _ as path -> Map.find cave graph |> List.map (fun x -> x :: path) |> List.collect (paths graph)\n",
    "\n",
    "paths input [\"start\"] |> Seq.length"
   ]
  },
  {
   "cell_type": "code",
   "execution_count": null,
   "metadata": {
    "dotnet_interactive": {
     "language": "fsharp"
    }
   },
   "outputs": [
    {
     "data": {
      "text/html": [
       "<div class=\"dni-plaintext\">117095</div>"
      ]
     },
     "metadata": {},
     "output_type": "display_data"
    }
   ],
   "source": [
    "let rec paths2 graph = function\n",
    "  | End :: _ as path -> [path |> List.rev]\n",
    "  | Start :: _ :: _ -> []\n",
    "  | cave :: rest as path -> \n",
    "    Map.find cave graph \n",
    "    |> List.map (fun x -> x :: path)\n",
    "    |> List.collect ((match cave with Small _ when List.contains cave rest -> paths | _ -> paths2) graph)\n",
    "\n",
    "paths2 input [\"start\"] |> Seq.length"
   ]
  }
 ],
 "metadata": {
  "kernelspec": {
   "display_name": ".NET (F#)",
   "language": "F#",
   "name": ".net-fsharp"
  },
  "language_info": {
   "name": "F#"
  }
 },
 "nbformat": 4,
 "nbformat_minor": 2
}
