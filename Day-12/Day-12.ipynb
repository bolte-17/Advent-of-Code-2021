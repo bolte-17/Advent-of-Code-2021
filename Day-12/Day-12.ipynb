{
 "cells": [
  {
   "cell_type": "code",
   "execution_count": null,
   "metadata": {
    "dotnet_interactive": {
     "language": "fsharp"
    }
   },
   "outputs": [],
   "source": [
    "let isBig (cave: string) = Char.IsUpper cave[0]\n",
    "\n",
    "\n",
    "let parseGraph (lines: string seq) = \n",
    "  lines\n",
    "  |> Seq.map (fun s -> s.Split('-'))\n",
    "  |> Seq.collect (function \n",
    "    | [|\"start\"; y|] -> [\"start\",y] \n",
    "    | [|x; \"start\"|] -> [\"start\",x] \n",
    "    | [|x;y|] -> [(x,y); (y,x)])\n",
    "  |> Seq.groupBy fst\n",
    "  |> Map\n",
    "  |> Map.map (fun k v -> v |> Seq.map snd |> Seq.toList |> List.sort)\n",
    "\n",
    "let example = \n",
    "  @\"start-A\n",
    "start-b\n",
    "A-c\n",
    "A-b\n",
    "b-d\n",
    "A-end\n",
    "b-end\".Split('\\n') |> parseGraph\n",
    "\n",
    "let example2 = \n",
    "  @\"dc-end\n",
    "HN-start\n",
    "start-kj\n",
    "dc-start\n",
    "dc-HN\n",
    "LN-dc\n",
    "HN-end\n",
    "kj-sa\n",
    "kj-HN\n",
    "kj-dc\".Split('\\n') |> parseGraph\n",
    "\n",
    "let example3 = \n",
    "  @\"fs-end\n",
    "he-DX\n",
    "fs-he\n",
    "start-DX\n",
    "pj-DX\n",
    "end-zg\n",
    "zg-sl\n",
    "zg-pj\n",
    "pj-he\n",
    "RW-he\n",
    "fs-DX\n",
    "pj-RW\n",
    "zg-RW\n",
    "start-pj\n",
    "he-WI\n",
    "zg-he\n",
    "pj-fs\n",
    "start-RW\".Split('\\n') |> parseGraph\n",
    "\n",
    "let input = File.ReadAllLines \"input.txt\" |> parseGraph"
   ]
  },
  {
   "cell_type": "code",
   "execution_count": null,
   "metadata": {
    "dotnet_interactive": {
     "language": "fsharp"
    }
   },
   "outputs": [
    {
     "data": {
      "text/html": [
       "<div class=\"dni-plaintext\">4885</div>"
      ]
     },
     "metadata": {},
     "output_type": "display_data"
    }
   ],
   "source": [
    "let (|Small|Big|) s = if isBig s then Big s else Small s\n",
    "\n",
    "let removeCave cave graph =\n",
    "  graph\n",
    "  |> Map.remove cave\n",
    "  |> Map.map (fun _ v -> List.except [cave] v)\n",
    "\n",
    "let removeIfSmall cave graph =\n",
    "  match cave with\n",
    "  | Big cave -> graph\n",
    "  | Small cave -> removeCave cave graph\n",
    "\n",
    "let rec pathsFrom graph = function\n",
    "  | \"end\" -> [[\"end\"]]\n",
    "  | cave -> \n",
    "    match Map.tryFind cave graph with\n",
    "    | Some caves -> \n",
    "      caves\n",
    "      |> List.collect (pathsFrom (removeIfSmall cave graph))\n",
    "      |> List.map (fun path -> cave :: path)\n",
    "    | None -> []\n",
    "\n",
    "pathsFrom graph \"start\"\n",
    "|> Seq.length"
   ]
  },
  {
   "cell_type": "code",
   "execution_count": null,
   "metadata": {
    "dotnet_interactive": {
     "language": "fsharp"
    }
   },
   "outputs": [
    {
     "data": {
      "text/html": [
       "<div class=\"dni-plaintext\">117095</div>"
      ]
     },
     "metadata": {},
     "output_type": "display_data"
    }
   ],
   "source": [
    "let paths2 graph start = \n",
    "  let addSmall smalls = function\n",
    "  | Big cave -> smalls\n",
    "  | Small cave -> smalls |> Set.add cave\n",
    "  \n",
    "  let rec p2 visitedSmalls = function\n",
    "  | \"end\" -> [[\"end\"]]\n",
    "  | cave -> \n",
    "    if Set.contains cave visitedSmalls then \n",
    "      let remaining = \n",
    "        visitedSmalls\n",
    "        |> Seq.fold (fun g s -> removeCave s g) graph\n",
    "      Map.find cave graph\n",
    "      |> List.collect (pathsFrom remaining)\n",
    "      |> List.map(fun path -> cave :: path)\n",
    "    else\n",
    "      Map.find cave graph \n",
    "      |> List.collect (p2 (addSmall visitedSmalls cave))\n",
    "      |> List.map(fun path -> cave :: path)\n",
    "  p2 Set.empty start\n",
    "\n",
    "paths2 input \"start\" |> Seq.length"
   ]
  }
 ],
 "metadata": {
  "kernelspec": {
   "display_name": ".NET (F#)",
   "language": "F#",
   "name": ".net-fsharp"
  },
  "language_info": {
   "name": "F#"
  }
 },
 "nbformat": 4,
 "nbformat_minor": 2
}
