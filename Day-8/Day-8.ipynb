{
 "cells": [
  {
   "cell_type": "code",
   "execution_count": null,
   "metadata": {
    "dotnet_interactive": {
     "language": "fsharp"
    }
   },
   "outputs": [
    {
     "data": {
      "text/html": [
       "<div class=\"dni-plaintext\">321</div>"
      ]
     },
     "metadata": {},
     "output_type": "display_data"
    }
   ],
   "source": [
    "let parseLine (s:string) = \n",
    "  let [|patterns; output|] = \n",
    "    s.Split('|') \n",
    "    |> Array.map (fun (sec:string) -> sec.Split(' ', StringSplitOptions.RemoveEmptyEntries) |> Array.map Set.ofSeq)\n",
    "  (patterns |> Set.ofArray, output)\n",
    "\n",
    "let input = File.ReadAllLines \"input.txt\" |> Seq.map parseLine\n",
    "\n",
    "input\n",
    "|> Seq.collect snd\n",
    "|> Seq.filter (Set.count >> (function 2 | 3 | 4 | 7 -> true | _ -> false))\n",
    "|> Seq.length"
   ]
  },
  {
   "cell_type": "code",
   "execution_count": null,
   "metadata": {
    "dotnet_interactive": {
     "language": "fsharp"
    }
   },
   "outputs": [
    {
     "name": "stdout",
     "output_type": "stream",
     "text": [
      "map [('a', 8); ('b', 6); ('c', 8); ('d', 7); ('e', 4); ('f', 9); ('g', 7)]\n"
     ]
    },
    {
     "data": {
      "text/html": [
       "<div class=\"dni-plaintext\">1028926</div>"
      ]
     },
     "metadata": {},
     "output_type": "display_data"
    }
   ],
   "source": [
    "let properWiring =\n",
    "  seq [\n",
    "    set ['a';'b';'c';    'e';'f';'g'];\n",
    "    set [        'c';        'f';   ];\n",
    "    set ['a';    'c';'d';'e';    'g'];\n",
    "    set ['a';    'c';'d';    'f';'g'];\n",
    "    set [    'b';'c';'d';    'f';   ];\n",
    "    set ['a';'b';    'd';    'f';'g'];\n",
    "    set ['a';'b';    'd';'e';'f';'g'];\n",
    "    set ['a';    'c';        'f';   ];\n",
    "    set ['a';'b';'c';'d';'e';'f';'g'];\n",
    "    set ['a';'b';'c';'d';    'f';'g']\n",
    "  ]\n",
    "\n",
    "let countChars = Seq.collect id >> Seq.countBy id \n",
    "let properCharCounts = countChars properWiring |> Map.ofSeq\n",
    "let properCharCount c = Map.find c properCharCounts\n",
    "\n",
    "\n",
    "type Rewiring = (char * char) list\n",
    "\n",
    "let rewire (swaps: Rewiring) pattern = \n",
    "  let swap pattern (c1, c2) =\n",
    "    match Set.contains c1 pattern, Set.contains c2 pattern with\n",
    "    | true, true | false, false -> pattern\n",
    "    | false, true -> pattern |> Set.add c1 |> Set.remove c2\n",
    "    | true, false -> pattern |> Set.remove c1 |> Set.add c2\n",
    "  swaps |> Seq.rev |> Seq.fold swap pattern\n",
    "  \n",
    "let tryFixWiring (patterns: char Set Set) =\n",
    "  let rec tryWiring mapping = function\n",
    "  | c :: rest ->\n",
    "    let p = patterns |> Set.map (rewire mapping)\n",
    "    if set properWiring = p then Some mapping else\n",
    "      tryWiring mapping rest\n",
    "      |> Option.orElse\n",
    "        (countChars p \n",
    "        |> Seq.filter (fun (c2, i) -> List.contains c2 rest && (properCharCount c) = i)\n",
    "        |> Seq.map fst\n",
    "        |> Seq.tryPick (fun c2 -> tryWiring ((c, c2) :: mapping) rest))\n",
    "  | _ -> None\n",
    "  \n",
    "  tryWiring [] (patterns |> Set.unionMany |> Set.toList)\n",
    "  |> Option.defaultWith (fun () -> failwith \"Successful rewiring not found\")\n",
    "\n",
    "let decode (patterns, output) = \n",
    "  let rewiring = tryFixWiring patterns \n",
    "  \n",
    "  output\n",
    "  |> Array.map (rewire rewiring) \n",
    "  |> Array.map (fun x -> Seq.findIndex ((=) x) properWiring)\n",
    "  |> Array.fold (fun acc n -> acc * 10 + n) 0\n",
    "\n",
    "input |> Seq.sumBy decode"
   ]
  }
 ],
 "metadata": {
  "kernelspec": {
   "display_name": ".NET (F#)",
   "language": "F#",
   "name": ".net-fsharp"
  },
  "language_info": {
   "name": "F#"
  }
 },
 "nbformat": 4,
 "nbformat_minor": 2
}
