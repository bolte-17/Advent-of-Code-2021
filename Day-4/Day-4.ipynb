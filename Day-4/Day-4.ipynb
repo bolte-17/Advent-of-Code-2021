{
 "cells": [
  {
   "cell_type": "code",
   "execution_count": null,
   "metadata": {
    "dotnet_interactive": {
     "language": "fsharp"
    }
   },
   "outputs": [],
   "source": [
    "let input = File.ReadAllLines \"input.txt\"\n",
    "let calls = input |> Seq.head |> fun s -> s.Split(',') |> Array.map int\n",
    "let boards = \n",
    "  input |> Seq.tail\n",
    "  |> Seq.map (fun s -> s.Split(' ', StringSplitOptions.RemoveEmptyEntries) |> Seq.map int) \n",
    "  |> Seq.chunkBySize 6 \n",
    "  |> Seq.map (Seq.tail >> array2D)\n",
    "  |> Seq.toList"
   ]
  },
  {
   "cell_type": "code",
   "execution_count": null,
   "metadata": {
    "dotnet_interactive": {
     "language": "fsharp"
    }
   },
   "outputs": [
    {
     "name": "stdout",
     "output_type": "stream",
     "text": [
      "Winning Board Score: 27027\n",
      "Losing Board Score: 36975\n"
     ]
    }
   ],
   "source": [
    "let rows board = seq {for i in 0 .. Array2D.length1 board - 1 -> board[i, *]}\n",
    "let cols board = seq {for i in 0 .. Array2D.length1 board - 1 -> board[*, i]}\n",
    "let flatten = rows >> Seq.concat\n",
    "let rowsCols = Seq.singleton >> Seq.allPairs [rows; cols] >> Seq.collect ((<||) (<|))\n",
    "\n",
    "let turnCalled n = calls |> Array.findIndex ((=) n)\n",
    "\n",
    "let winningTurn = Array2D.map turnCalled >> rowsCols >> Seq.map Seq.max >> Seq.min\n",
    "\n",
    "let score board = \n",
    "  let winTurn = winningTurn board\n",
    "  calls[winTurn] * (board |> flatten |> Seq.filter (turnCalled >> (<) winTurn) |> Seq.sum)\n",
    "\n",
    "boards |> List.minBy winningTurn |> score |> printfn \"Winning Board Score: %i\"\n",
    "boards |> List.maxBy winningTurn |> score |> printfn \"Losing Board Score: %i\"\n"
   ]
  }
 ],
 "metadata": {
  "kernelspec": {
   "display_name": ".NET (F#)",
   "language": "F#",
   "name": ".net-fsharp"
  },
  "language_info": {
   "name": "F#"
  }
 },
 "nbformat": 4,
 "nbformat_minor": 2
}
